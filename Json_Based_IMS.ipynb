{
  "nbformat": 4,
  "nbformat_minor": 0,
  "metadata": {
    "colab": {
      "name": "Json Based IMS.ipynb",
      "provenance": [],
      "collapsed_sections": []
    },
    "kernelspec": {
      "name": "python3",
      "display_name": "Python 3"
    },
    "language_info": {
      "name": "python"
    }
  },
  "cells": [
    {
      "cell_type": "markdown",
      "metadata": {
        "id": "s1fnWWTT9V2L"
      },
      "source": [
        "### **Adding products**"
      ]
    },
    {
      "cell_type": "code",
      "metadata": {
        "id": "lWoR70WIY4xb"
      },
      "source": [
        "import json\n",
        "fc = open(\"record.json\",\"r\")\n",
        "rec=fc.read()\n",
        "fc.close()\n",
        "record= json.loads(rec)"
      ],
      "execution_count": 26,
      "outputs": []
    },
    {
      "cell_type": "code",
      "metadata": {
        "colab": {
          "base_uri": "https://localhost:8080/"
        },
        "id": "jFV_CcETuAqm",
        "outputId": "56fdeaf3-c007-4d21-a8cb-417f3929e25f"
      },
      "source": [
        "prod_id=str(input(\"Enter the prod ID:\"))\n",
        "name = str(input(\"Enter the prod name:\"))\n",
        "category = str(input(\"Enter the prod category:\"))\n",
        "company = str(input(\"Enter the prod company:\"))\n",
        "price = int(input(\"Enter the prod price:\")) \n",
        "quantity = int(input(\"Enter the prod quantity:\")) \n",
        "record[prod_id] = {\"Name\":name,\"Category\":category,\"Company\":company,\"Price\":price,\"Quantity\":quantity}\n",
        "js = json.dumps(record)\n",
        "fc=open('record.json','w')\n",
        "fc.write(js)\n",
        "fc.close()"
      ],
      "execution_count": 70,
      "outputs": [
        {
          "name": "stdout",
          "output_type": "stream",
          "text": [
            "Enter the prod ID:130\n",
            "Enter the prod name:Tedhe medhe\n",
            "Enter the prod category:kurkure\n",
            "Enter the prod company:balaji\n",
            "Enter the prod price:10\n",
            "Enter the prod quantity:120\n"
          ]
        }
      ]
    },
    {
      "cell_type": "code",
      "metadata": {
        "colab": {
          "base_uri": "https://localhost:8080/"
        },
        "id": "pIamspW3QEoE",
        "outputId": "5c6dc4c4-4f8d-42e0-b425-090a4daa55a1"
      },
      "source": [
        "record"
      ],
      "execution_count": 71,
      "outputs": [
        {
          "output_type": "execute_result",
          "data": {
            "text/plain": [
              "{'101': {'Category': 'biscuit',\n",
              "  'Company': 'Parle',\n",
              "  'Name': 'Parle-G',\n",
              "  'Price': 10,\n",
              "  'Quantity': 100},\n",
              " '102': {'Category': 'water',\n",
              "  'Company': 'Aqualite',\n",
              "  'Name': 'Aqua',\n",
              "  'Price': 20,\n",
              "  'Quantity': 120},\n",
              " '103': {'Category': 'biscuit',\n",
              "  'Company': 'Parle',\n",
              "  'Name': '20-20',\n",
              "  'Price': 5,\n",
              "  'Quantity': 200},\n",
              " '104': {'Category': 'biscuit',\n",
              "  'Company': 'Britania',\n",
              "  'Name': 'Marie',\n",
              "  'Price': 10,\n",
              "  'Quantity': 200},\n",
              " '105': {'Category': 'biscuit',\n",
              "  'Company': 'Britania',\n",
              "  'Name': 'Good Day',\n",
              "  'Price': 10,\n",
              "  'Quantity': 250},\n",
              " '106': {'Category': 'cadbury',\n",
              "  'Company': 'nestle',\n",
              "  'Name': '5-star',\n",
              "  'Price': 10,\n",
              "  'Quantity': 220},\n",
              " '107': {'Category': 'cadbury',\n",
              "  'Company': 'Cadburries',\n",
              "  'Name': 'Dairy milk',\n",
              "  'Price': 10,\n",
              "  'Quantity': 120},\n",
              " '108': {'Category': 'biscuit',\n",
              "  'Company': 'Cadbury',\n",
              "  'Name': 'oreo',\n",
              "  'Price': 10,\n",
              "  'Quantity': 100},\n",
              " '109': {'Category': 'choco-wafer',\n",
              "  'Company': 'Cadbury',\n",
              "  'Name': 'perk',\n",
              "  'Price': 10,\n",
              "  'Quantity': 140},\n",
              " '110': {'Category': 'nudles',\n",
              "  'Company': 'Nestle',\n",
              "  'Name': 'Maggie',\n",
              "  'Price': 12,\n",
              "  'Quantity': 240},\n",
              " '111': {'Category': 'nudles',\n",
              "  'Company': 'Sunfeast',\n",
              "  'Name': 'Yippee',\n",
              "  'Price': 10,\n",
              "  'Quantity': 180},\n",
              " '112': {'Category': 'chocolates',\n",
              "  'Company': 'Cadury',\n",
              "  'Name': 'Gems',\n",
              "  'Price': 5,\n",
              "  'Quantity': 230},\n",
              " '113': {'Category': 'pen',\n",
              "  'Company': 'Rorrito',\n",
              "  'Name': 'Rorrito',\n",
              "  'Price': 40,\n",
              "  'Quantity': 50},\n",
              " '114': {'Category': 'pen',\n",
              "  'Company': 'Cello',\n",
              "  'Name': 'Cello gel',\n",
              "  'Price': 5,\n",
              "  'Quantity': 150},\n",
              " '115': {'Category': 'pen',\n",
              "  'Company': 'Bally',\n",
              "  'Name': 'Bally-R',\n",
              "  'Price': 3,\n",
              "  'Quantity': 300},\n",
              " '116': {'Category': 'pencil',\n",
              "  'Company': 'Nataraj',\n",
              "  'Name': 'Nataraj',\n",
              "  'Price': 5,\n",
              "  'Quantity': 200},\n",
              " '117': {'Category': 'pencil',\n",
              "  'Company': 'Camlin',\n",
              "  'Name': 'Apsara',\n",
              "  'Price': 7,\n",
              "  'Quantity': 150},\n",
              " '118': {'Category': 'led pencil',\n",
              "  'Company': 'camlin',\n",
              "  'Name': 'Kokuyo camlin',\n",
              "  'Price': 20,\n",
              "  'Quantity': 100},\n",
              " '119': {'Category': 'notebook',\n",
              "  'Company': 'Sundaram',\n",
              "  'Name': 'classic',\n",
              "  'Price': 20,\n",
              "  'Quantity': 120},\n",
              " '120': {'Category': 'notebook',\n",
              "  'Company': 'Classmates',\n",
              "  'Name': 'Classmate',\n",
              "  'Price': 40,\n",
              "  'Quantity': 130},\n",
              " '121': {'Category': 'drink',\n",
              "  'Company': 'Amul',\n",
              "  'Name': 'Milk',\n",
              "  'Price': 20,\n",
              "  'Quantity': 100},\n",
              " '122': {'Category': 'd',\n",
              "  'Company': 'Alfonso',\n",
              "  'Name': 'Maaza',\n",
              "  'Price': 50,\n",
              "  'Quantity': 40},\n",
              " '123': {'Category': 'grossary',\n",
              "  'Company': '--',\n",
              "  'Name': 'sugar',\n",
              "  'Price': 40,\n",
              "  'Quantity': 100},\n",
              " '124': {'Category': 'hair oil',\n",
              "  'Company': 'paratute',\n",
              "  'Name': 'Paratute',\n",
              "  'Price': 10,\n",
              "  'Quantity': 100},\n",
              " '125': {'Category': 'hair oil',\n",
              "  'Company': 'Bajaj',\n",
              "  'Name': 'Bajaj',\n",
              "  'Price': 30,\n",
              "  'Quantity': 50},\n",
              " '126': {'Category': 'hair oiul',\n",
              "  'Company': 'Bhringa',\n",
              "  'Name': 'Indulekha',\n",
              "  'Price': 150,\n",
              "  'Quantity': 30},\n",
              " '127': {'Category': 'shampoo',\n",
              "  'Company': 'vatika',\n",
              "  'Name': 'Vatika',\n",
              "  'Price': 5,\n",
              "  'Quantity': 200},\n",
              " '128': {'Category': 'shampoo',\n",
              "  'Company': 'patanjali',\n",
              "  'Name': 'kesh kanti',\n",
              "  'Price': 10,\n",
              "  'Quantity': 100},\n",
              " '129': {'Category': 'oats',\n",
              "  'Company': 'nestle',\n",
              "  'Name': 'Oats',\n",
              "  'Price': 30,\n",
              "  'Quantity': 100},\n",
              " '130': {'Category': 'kurkure',\n",
              "  'Company': 'balaji',\n",
              "  'Name': 'Tedhe medhe',\n",
              "  'Price': 10,\n",
              "  'Quantity': 120}}"
            ]
          },
          "metadata": {},
          "execution_count": 71
        }
      ]
    },
    {
      "cell_type": "markdown",
      "metadata": {
        "id": "ukJNKThOAMyl"
      },
      "source": [
        "###**Purchasing Products**"
      ]
    },
    {
      "cell_type": "code",
      "metadata": {
        "id": "HHnPb1lcJe9O"
      },
      "source": [
        "import json\n",
        "fc=open('record.json','r')\n",
        "txt=fc.read()\n",
        "fc.close()\n",
        "product= json.loads(txt)"
      ],
      "execution_count": 6,
      "outputs": []
    },
    {
      "cell_type": "code",
      "metadata": {
        "colab": {
          "base_uri": "https://localhost:8080/"
        },
        "id": "QjfQ1Ju__xjX",
        "outputId": "0f385675-34fd-426b-f372-77b713329a5c"
      },
      "source": [
        "ui_prod = str(input(\"Enter the product_Id: \")) \n",
        "ui_quant = int(input(\"Enter the quantity: \")) \n",
        "print(\"Product: \", product[ui_prod][\"Name\"])\n",
        "print(\"Price: \", product[ui_prod][\"Price\"]) \n",
        "print(\"Billing Amount: \", product[ui_prod][\"Price\"] * ui_quant) \n",
        "product[ui_prod][\"Quantity\"] = int(product[ui_prod][\"Quantity\"] - ui_quant)"
      ],
      "execution_count": 7,
      "outputs": [
        {
          "output_type": "stream",
          "name": "stdout",
          "text": [
            "Enter the product_Id: 101\n",
            "Enter the quantity: 10\n",
            "Product:  Parle-G\n",
            "Price:  10\n",
            "Billing Amount:  100\n"
          ]
        }
      ]
    },
    {
      "cell_type": "code",
      "metadata": {
        "id": "UMgBsA0ILAFF"
      },
      "source": [
        "js = json.dumps(product)\n",
        "fc=open('record.json','w')\n",
        "fc.write(js)\n",
        "fc.close()"
      ],
      "execution_count": 8,
      "outputs": []
    },
    {
      "cell_type": "markdown",
      "metadata": {
        "id": "Q-eRF4CT9OMh"
      },
      "source": [
        "# Sales"
      ]
    },
    {
      "cell_type": "code",
      "metadata": {
        "colab": {
          "base_uri": "https://localhost:8080/",
          "height": 274
        },
        "id": "Qtez7lF0Uqj2",
        "outputId": "a3effc7c-c738-45ca-fdfa-eab942b83030"
      },
      "source": [
        "    sales={len(sales):{\"product Name\": product[str(ui_prod)][\"Name\"], \"ProductId\" : ui_prod, \"Purchased Quantity\" : ui_quant, \"Billing Cost\" :product[ui_prod][\"Price\"] * ui_quant},\n",
        "       len(sales)+1:{\"product Name\": product[str(ui_prod)][\"Name\"], \"ProductId\" : ui_prod, \"Purchased Quantity\" : ui_quant, \"Billing Cost\" :product[ui_prod][\"Price\"] * ui_quant}}            \n",
        "    print(sales)\n",
        "    sales=json.dumps(sales)\n",
        "\n",
        "    fd=open(\"sales.json\",'w')\n",
        "    fd.write(sales)\n",
        "    fd.close()\n",
        "\n",
        "    fd=open(\"sales.json\",'r')\n",
        "    sold=fd.read()\n",
        "    fd.close()\n",
        "\n",
        "    sales=json.loads(sold)"
      ],
      "execution_count": 77,
      "outputs": [
        {
          "output_type": "error",
          "ename": "NameError",
          "evalue": "ignored",
          "traceback": [
            "\u001b[0;31m---------------------------------------------------------------------------\u001b[0m",
            "\u001b[0;31mNameError\u001b[0m                                 Traceback (most recent call last)",
            "\u001b[0;32m<ipython-input-77-3e831231e1ee>\u001b[0m in \u001b[0;36m<module>\u001b[0;34m()\u001b[0m\n\u001b[0;32m----> 1\u001b[0;31m sales={len(sales):{\"product Name\": product[str(ui_prod)][\"Name\"], \"ProductId\" : ui_prod, \"Purchased Quantity\" : ui_quant, \"Billing Cost\" :product[ui_prod][\"Price\"] * ui_quant},\n\u001b[0m\u001b[1;32m      2\u001b[0m    len(sales)+1:{\"product Name\": product[str(ui_prod)][\"Name\"], \"ProductId\" : ui_prod, \"Purchased Quantity\" : ui_quant, \"Billing Cost\" :product[ui_prod][\"Price\"] * ui_quant}}            \n\u001b[1;32m      3\u001b[0m \u001b[0mprint\u001b[0m\u001b[0;34m(\u001b[0m\u001b[0msales\u001b[0m\u001b[0;34m)\u001b[0m\u001b[0;34m\u001b[0m\u001b[0;34m\u001b[0m\u001b[0m\n\u001b[1;32m      4\u001b[0m \u001b[0msales\u001b[0m\u001b[0;34m=\u001b[0m\u001b[0mjson\u001b[0m\u001b[0;34m.\u001b[0m\u001b[0mdumps\u001b[0m\u001b[0;34m(\u001b[0m\u001b[0msales\u001b[0m\u001b[0;34m)\u001b[0m\u001b[0;34m\u001b[0m\u001b[0;34m\u001b[0m\u001b[0m\n\u001b[1;32m      5\u001b[0m \u001b[0;34m\u001b[0m\u001b[0m\n",
            "\u001b[0;31mNameError\u001b[0m: name 'sales' is not defined"
          ]
        }
      ]
    },
    {
      "cell_type": "code",
      "metadata": {
        "id": "jzYQG_UpDwKa"
      },
      "source": [
        ""
      ],
      "execution_count": null,
      "outputs": []
    }
  ]
}